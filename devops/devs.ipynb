{
 "cells": [
  {
   "cell_type": "code",
   "execution_count": 11,
   "metadata": {},
   "outputs": [],
   "source": [
    "import json\n",
    "from datetime import datetime, timedelta"
   ]
  },
  {
   "cell_type": "code",
   "execution_count": 24,
   "metadata": {},
   "outputs": [],
   "source": [
    "def strip_int_column(dataf, columns):\n",
    "    for c in columns:\n",
    "        cvalues = list(dataf[c].values)\n",
    "        cvalues = [re.sub('[^0-9]','', x) for x in cvalues]\n",
    "        dataf[f'{c}_clean'] = [0 if y == '' else int(y) for y in cvalues]\n",
    "    return dataf\n",
    "\n",
    "def prepare_housing_dict(dicty):\n",
    "    \n",
    "    # merge dict into pandas frame\n",
    "    housesdf = pd.DataFrame.from_dict(dicty, orient='index')\n",
    "    \n",
    "    # get city\n",
    "    housesdf['city'] = housesdf['location'].str.split(',').str[1]\n",
    "    housesdf['city'] = housesdf['city'].fillna('noaddress')\n",
    "    \n",
    "    # convert given columns to ints\n",
    "    housesdf = strip_int_column(housesdf, ['price', 'meters'])\n",
    "    \n",
    "    # divide extreem high prices by 1000 to correct for dtype error in source\n",
    "    housesdf.loc[lambda x: x['price_clean']>99999999, 'price_clean'] = housesdf['price_clean']/1000\n",
    "    \n",
    "    # calculate meter price on row level and replace failed calculation with 0\n",
    "    housesdf['meter_price'] = housesdf['price_clean'] / housesdf['meters_clean']\n",
    "    housesdf['meter_price'] = housesdf['meter_price'].replace([np.inf, -np.inf], 0)\n",
    "    \n",
    "    # filter on available houses only & houses with at least the field city filled\n",
    "    housesdf = housesdf.loc[lambda x: x['sold']=='available']\n",
    "    housesdf = housesdf.loc[lambda x: x['location']!='noadress']\n",
    "    \n",
    "    return housesdf"
   ]
  },
  {
   "cell_type": "code",
   "execution_count": 39,
   "metadata": {},
   "outputs": [],
   "source": [
    "def housing_fact_dict(housesdf, area):\n",
    "    \n",
    "    # calculate metrics\n",
    "    n_houses = housesdf['city'].count()\n",
    "    average_price = round(housesdf.loc[lambda x: (x['price_clean']>0)]['price_clean'].mean(), 2)\n",
    "    median_price = round(housesdf.loc[lambda x: (x['price_clean']>0)]['price_clean'].median(), 2)\n",
    "    average_meters = round(housesdf.loc[lambda x: (x['meters_clean']>0)]['meters_clean'].mean(), 2)\n",
    "    median_meters = round(housesdf.loc[lambda x: (x['meters_clean']>0)]['meters_clean'].median(), 2)\n",
    "    average_meter_price = round(housesdf.loc[lambda x: (x['meter_price']>0)]['meter_price'].mean(), 2)\n",
    "    median_meter_price = round(housesdf.loc[lambda x: (x['meter_price']>0)]['meter_price'].median(), 2)\n",
    "\n",
    "    # create dict\n",
    "    houses_dict = {\n",
    "        area: \n",
    "        {\n",
    "            'number_available': n_houses,\n",
    "            'price_mean': average_price,\n",
    "            'price_median': median_price,\n",
    "            'meters_mean': average_meters,\n",
    "            'meters_median': median_meters,\n",
    "            'meter_price_mean': average_meter_price,\n",
    "            'meter_price_median': median_meter_price\n",
    "        }\n",
    "    }\n",
    "    \n",
    "    return houses_dict"
   ]
  },
  {
   "cell_type": "code",
   "execution_count": 40,
   "metadata": {},
   "outputs": [],
   "source": [
    "def build_full_dict(housesdf):\n",
    "    \n",
    "    # run totals\n",
    "    overall_dict = houses_fact_dict(housesdf, area='The Netherlands')\n",
    "    \n",
    "    cities = ['Amsterdam', 'Rotterdam', 'Utrecht', 'Hilversum', 'Amstelveen']\n",
    "    cities_dicts = {}\n",
    "    # run on cities\n",
    "    for city in cities:\n",
    "        # filter on city\n",
    "        city_housesdf = housesdf.loc[lambda x: x['city'].str.contains(city)]\n",
    "        # create city sum\n",
    "        sub_city_dict = houses_fact_dict(city_housesdf, area=city)\n",
    "        # update cities\n",
    "        cities_dicts.update(sub_city_dict)\n",
    "    \n",
    "    # merge dicts\n",
    "    full_dict = {**overall_dict, **cities_dict}\n",
    "    \n",
    "    return full_dict"
   ]
  },
  {
   "cell_type": "code",
   "execution_count": 46,
   "metadata": {},
   "outputs": [],
   "source": [
    "with open('../data/housing_data_2020_03_28.json', 'r') as s:\n",
    "    housesdict = json.load(s)\n",
    "    \n",
    "housesdf = prepare_housing_dict(housesdict)\n",
    "\n",
    "full_dict = build_full_dict(housesdf)\n",
    "\n",
    "today = datetime.now().strftime('%Y-%m-%d')\n",
    "output_dict = {\n",
    "    'creation_date': today,\n",
    "    'version': 0.1,\n",
    "    'housing_facts': full_dict\n",
    "}"
   ]
  },
  {
   "cell_type": "code",
   "execution_count": 6,
   "metadata": {},
   "outputs": [],
   "source": [
    "today = datetime.now().strftime('%Y_%m_%d')"
   ]
  },
  {
   "cell_type": "code",
   "execution_count": 15,
   "metadata": {},
   "outputs": [],
   "source": [
    "yesterday = (datetime.now() + timedelta(days=-1)).strftime('%Y_%m_%d')"
   ]
  },
  {
   "cell_type": "code",
   "execution_count": 7,
   "metadata": {},
   "outputs": [],
   "source": [
    "tt = {'The Netherlands': {'number_available': 51641, 'price_mean': 448247.66, 'price_median': 349000.0, 'meters_mean': 143.42, 'meters_median': 125.0, 'meter_price_mean': 3684.8, 'meter_price_median': 2733.58}, 'Amsterdam': {'number_available': 1661, 'price_mean': 733219.22, 'price_median': 525000.0, 'meters_mean': 140.34, 'meters_median': 122.0, 'meter_price_mean': 6059.79, 'meter_price_median': 4306.57}, 'Rotterdam': {'number_available': 1056, 'price_mean': 464835.87, 'price_median': 324750.0, 'meters_mean': 135.92, 'meters_median': 118.0, 'meter_price_mean': 3845.83, 'meter_price_median': 2840.91}, 'Utrecht': {'number_available': 489, 'price_mean': 483461.98, 'price_median': 400000.0, 'meters_mean': 135.1, 'meters_median': 124.0, 'meter_price_mean': 4118.69, 'meter_price_median': 3339.2}, 'Hilversum': {'number_available': 306, 'price_mean': 693917.06, 'price_median': 585000.0, 'meters_mean': 144.29, 'meters_median': 127.0, 'meter_price_mean': 6020.18, 'meter_price_median': 4324.92}, 'Amstelveen': {'number_available': 254, 'price_mean': 745368.8, 'price_median': 622500.0, 'meters_mean': 144.0, 'meters_median': 126.0, 'meter_price_mean': 6283.83, 'meter_price_median': 4791.67}}"
   ]
  },
  {
   "cell_type": "code",
   "execution_count": 32,
   "metadata": {},
   "outputs": [],
   "source": [
    "output_dict = {\n",
    "        today: {\n",
    "            'version': 0.1,\n",
    "            'housing_facts': tt\n",
    "        }\n",
    "    }"
   ]
  },
  {
   "cell_type": "code",
   "execution_count": 33,
   "metadata": {},
   "outputs": [],
   "source": [
    "output_dict2 = {\n",
    "        yesterday: {\n",
    "            'version': 0.1,\n",
    "            'housing_facts': tt\n",
    "        }\n",
    "    }"
   ]
  },
  {
   "cell_type": "code",
   "execution_count": 35,
   "metadata": {},
   "outputs": [],
   "source": [
    "fulldict = {**output_dict2, **output_dict}"
   ]
  },
  {
   "cell_type": "code",
   "execution_count": 21,
   "metadata": {},
   "outputs": [
    {
     "data": {
      "text/plain": [
       "{'creation_date': '2020_03_31',\n",
       " 'version': 0.1,\n",
       " 'housing_facts': {'The Netherlands': {'number_available': 51641,\n",
       "   'price_mean': 448247.66,\n",
       "   'price_median': 349000.0,\n",
       "   'meters_mean': 143.42,\n",
       "   'meters_median': 125.0,\n",
       "   'meter_price_mean': 3684.8,\n",
       "   'meter_price_median': 2733.58},\n",
       "  'Amsterdam': {'number_available': 1661,\n",
       "   'price_mean': 733219.22,\n",
       "   'price_median': 525000.0,\n",
       "   'meters_mean': 140.34,\n",
       "   'meters_median': 122.0,\n",
       "   'meter_price_mean': 6059.79,\n",
       "   'meter_price_median': 4306.57},\n",
       "  'Rotterdam': {'number_available': 1056,\n",
       "   'price_mean': 464835.87,\n",
       "   'price_median': 324750.0,\n",
       "   'meters_mean': 135.92,\n",
       "   'meters_median': 118.0,\n",
       "   'meter_price_mean': 3845.83,\n",
       "   'meter_price_median': 2840.91},\n",
       "  'Utrecht': {'number_available': 489,\n",
       "   'price_mean': 483461.98,\n",
       "   'price_median': 400000.0,\n",
       "   'meters_mean': 135.1,\n",
       "   'meters_median': 124.0,\n",
       "   'meter_price_mean': 4118.69,\n",
       "   'meter_price_median': 3339.2},\n",
       "  'Hilversum': {'number_available': 306,\n",
       "   'price_mean': 693917.06,\n",
       "   'price_median': 585000.0,\n",
       "   'meters_mean': 144.29,\n",
       "   'meters_median': 127.0,\n",
       "   'meter_price_mean': 6020.18,\n",
       "   'meter_price_median': 4324.92},\n",
       "  'Amstelveen': {'number_available': 254,\n",
       "   'price_mean': 745368.8,\n",
       "   'price_median': 622500.0,\n",
       "   'meters_mean': 144.0,\n",
       "   'meters_median': 126.0,\n",
       "   'meter_price_mean': 6283.83,\n",
       "   'meter_price_median': 4791.67}}}"
      ]
     },
     "execution_count": 21,
     "metadata": {},
     "output_type": "execute_result"
    }
   ],
   "source": [
    "output_dict2"
   ]
  },
  {
   "cell_type": "code",
   "execution_count": 18,
   "metadata": {},
   "outputs": [
    {
     "data": {
      "text/plain": [
       "{'creation_date': '2020_03_30',\n",
       " 'version': 0.1,\n",
       " 'housing_facts': {'The Netherlands': {'number_available': 51641,\n",
       "   'price_mean': 448247.66,\n",
       "   'price_median': 349000.0,\n",
       "   'meters_mean': 143.42,\n",
       "   'meters_median': 125.0,\n",
       "   'meter_price_mean': 3684.8,\n",
       "   'meter_price_median': 2733.58},\n",
       "  'Amsterdam': {'number_available': 1661,\n",
       "   'price_mean': 733219.22,\n",
       "   'price_median': 525000.0,\n",
       "   'meters_mean': 140.34,\n",
       "   'meters_median': 122.0,\n",
       "   'meter_price_mean': 6059.79,\n",
       "   'meter_price_median': 4306.57},\n",
       "  'Rotterdam': {'number_available': 1056,\n",
       "   'price_mean': 464835.87,\n",
       "   'price_median': 324750.0,\n",
       "   'meters_mean': 135.92,\n",
       "   'meters_median': 118.0,\n",
       "   'meter_price_mean': 3845.83,\n",
       "   'meter_price_median': 2840.91},\n",
       "  'Utrecht': {'number_available': 489,\n",
       "   'price_mean': 483461.98,\n",
       "   'price_median': 400000.0,\n",
       "   'meters_mean': 135.1,\n",
       "   'meters_median': 124.0,\n",
       "   'meter_price_mean': 4118.69,\n",
       "   'meter_price_median': 3339.2},\n",
       "  'Hilversum': {'number_available': 306,\n",
       "   'price_mean': 693917.06,\n",
       "   'price_median': 585000.0,\n",
       "   'meters_mean': 144.29,\n",
       "   'meters_median': 127.0,\n",
       "   'meter_price_mean': 6020.18,\n",
       "   'meter_price_median': 4324.92},\n",
       "  'Amstelveen': {'number_available': 254,\n",
       "   'price_mean': 745368.8,\n",
       "   'price_median': 622500.0,\n",
       "   'meters_mean': 144.0,\n",
       "   'meters_median': 126.0,\n",
       "   'meter_price_mean': 6283.83,\n",
       "   'meter_price_median': 4791.67}}}"
      ]
     },
     "execution_count": 18,
     "metadata": {},
     "output_type": "execute_result"
    }
   ],
   "source": [
    "output_dict2.append"
   ]
  },
  {
   "cell_type": "code",
   "execution_count": null,
   "metadata": {},
   "outputs": [],
   "source": []
  },
  {
   "cell_type": "code",
   "execution_count": 59,
   "metadata": {},
   "outputs": [],
   "source": [
    "with open('test.json', 'w') as teststream:\n",
    "    json.dump(output_dict, teststream, indent=2)"
   ]
  },
  {
   "cell_type": "code",
   "execution_count": null,
   "metadata": {},
   "outputs": [],
   "source": []
  }
 ],
 "metadata": {
  "kernelspec": {
   "display_name": "Python 3",
   "language": "python",
   "name": "python3"
  },
  "language_info": {
   "codemirror_mode": {
    "name": "ipython",
    "version": 3
   },
   "file_extension": ".py",
   "mimetype": "text/x-python",
   "name": "python",
   "nbconvert_exporter": "python",
   "pygments_lexer": "ipython3",
   "version": "3.7.6"
  }
 },
 "nbformat": 4,
 "nbformat_minor": 4
}
